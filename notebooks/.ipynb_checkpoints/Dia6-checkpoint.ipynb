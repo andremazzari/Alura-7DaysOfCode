{
 "cells": [
  {
   "cell_type": "code",
   "execution_count": 36,
   "id": "78b61283",
   "metadata": {},
   "outputs": [],
   "source": [
    "import numpy as np\n",
    "import pandas as pd"
   ]
  },
  {
   "cell_type": "markdown",
   "id": "9f75ddf8",
   "metadata": {},
   "source": [
    "## Pre-processing"
   ]
  },
  {
   "cell_type": "code",
   "execution_count": 37,
   "id": "b70621a0",
   "metadata": {},
   "outputs": [],
   "source": [
    "Data = pd.read_csv(\"../data/AB_Test_Data/ab_data.csv\", sep = ',')"
   ]
  },
  {
   "cell_type": "code",
   "execution_count": 38,
   "id": "1da31264",
   "metadata": {},
   "outputs": [
    {
     "data": {
      "text/html": [
       "<div>\n",
       "<style scoped>\n",
       "    .dataframe tbody tr th:only-of-type {\n",
       "        vertical-align: middle;\n",
       "    }\n",
       "\n",
       "    .dataframe tbody tr th {\n",
       "        vertical-align: top;\n",
       "    }\n",
       "\n",
       "    .dataframe thead th {\n",
       "        text-align: right;\n",
       "    }\n",
       "</style>\n",
       "<table border=\"1\" class=\"dataframe\">\n",
       "  <thead>\n",
       "    <tr style=\"text-align: right;\">\n",
       "      <th></th>\n",
       "      <th>user_id</th>\n",
       "      <th>timestamp</th>\n",
       "      <th>group</th>\n",
       "      <th>landing_page</th>\n",
       "      <th>converted</th>\n",
       "    </tr>\n",
       "  </thead>\n",
       "  <tbody>\n",
       "    <tr>\n",
       "      <th>0</th>\n",
       "      <td>851104</td>\n",
       "      <td>2017-01-21 22:11:48.556739</td>\n",
       "      <td>control</td>\n",
       "      <td>old_page</td>\n",
       "      <td>0</td>\n",
       "    </tr>\n",
       "    <tr>\n",
       "      <th>1</th>\n",
       "      <td>804228</td>\n",
       "      <td>2017-01-12 08:01:45.159739</td>\n",
       "      <td>control</td>\n",
       "      <td>old_page</td>\n",
       "      <td>0</td>\n",
       "    </tr>\n",
       "    <tr>\n",
       "      <th>2</th>\n",
       "      <td>661590</td>\n",
       "      <td>2017-01-11 16:55:06.154213</td>\n",
       "      <td>treatment</td>\n",
       "      <td>new_page</td>\n",
       "      <td>0</td>\n",
       "    </tr>\n",
       "    <tr>\n",
       "      <th>3</th>\n",
       "      <td>853541</td>\n",
       "      <td>2017-01-08 18:28:03.143765</td>\n",
       "      <td>treatment</td>\n",
       "      <td>new_page</td>\n",
       "      <td>0</td>\n",
       "    </tr>\n",
       "    <tr>\n",
       "      <th>4</th>\n",
       "      <td>864975</td>\n",
       "      <td>2017-01-21 01:52:26.210827</td>\n",
       "      <td>control</td>\n",
       "      <td>old_page</td>\n",
       "      <td>1</td>\n",
       "    </tr>\n",
       "  </tbody>\n",
       "</table>\n",
       "</div>"
      ],
      "text/plain": [
       "   user_id                   timestamp      group landing_page  converted\n",
       "0   851104  2017-01-21 22:11:48.556739    control     old_page          0\n",
       "1   804228  2017-01-12 08:01:45.159739    control     old_page          0\n",
       "2   661590  2017-01-11 16:55:06.154213  treatment     new_page          0\n",
       "3   853541  2017-01-08 18:28:03.143765  treatment     new_page          0\n",
       "4   864975  2017-01-21 01:52:26.210827    control     old_page          1"
      ]
     },
     "execution_count": 38,
     "metadata": {},
     "output_type": "execute_result"
    }
   ],
   "source": [
    "Data.head()"
   ]
  },
  {
   "cell_type": "code",
   "execution_count": 39,
   "id": "115a1fe5",
   "metadata": {},
   "outputs": [
    {
     "data": {
      "text/plain": [
       "(294478, 5)"
      ]
     },
     "execution_count": 39,
     "metadata": {},
     "output_type": "execute_result"
    }
   ],
   "source": [
    "Data.shape"
   ]
  },
  {
   "cell_type": "code",
   "execution_count": 40,
   "id": "ef9905c5",
   "metadata": {},
   "outputs": [
    {
     "name": "stdout",
     "output_type": "stream",
     "text": [
      "<class 'pandas.core.frame.DataFrame'>\n",
      "RangeIndex: 294478 entries, 0 to 294477\n",
      "Data columns (total 5 columns):\n",
      " #   Column        Non-Null Count   Dtype \n",
      "---  ------        --------------   ----- \n",
      " 0   user_id       294478 non-null  int64 \n",
      " 1   timestamp     294478 non-null  object\n",
      " 2   group         294478 non-null  object\n",
      " 3   landing_page  294478 non-null  object\n",
      " 4   converted     294478 non-null  int64 \n",
      "dtypes: int64(2), object(3)\n",
      "memory usage: 11.2+ MB\n"
     ]
    }
   ],
   "source": [
    "Data.info()"
   ]
  },
  {
   "cell_type": "code",
   "execution_count": 41,
   "id": "3ee079c8",
   "metadata": {},
   "outputs": [],
   "source": [
    "#Delete users that appear more than once\n",
    "Data.drop_duplicates(subset = ['user_id'], inplace = True)"
   ]
  },
  {
   "cell_type": "code",
   "execution_count": 42,
   "id": "9543cd81",
   "metadata": {},
   "outputs": [
    {
     "data": {
      "text/plain": [
       "(290584, 5)"
      ]
     },
     "execution_count": 42,
     "metadata": {},
     "output_type": "execute_result"
    }
   ],
   "source": [
    "#New shape of DataFrame\n",
    "Data.shape"
   ]
  },
  {
   "cell_type": "code",
   "execution_count": 43,
   "id": "c238b081",
   "metadata": {},
   "outputs": [
    {
     "data": {
      "text/plain": [
       "<AxesSubplot:>"
      ]
     },
     "execution_count": 43,
     "metadata": {},
     "output_type": "execute_result"
    },
    {
     "data": {
      "image/png": "[encoded data removed]",
      "text/plain": [
       "<Figure size 432x288 with 1 Axes>"
      ]
     },
     "metadata": {
      "needs_background": "light"
     },
     "output_type": "display_data"
    }
   ],
   "source": [
    "#plot histogram wiht number of members in each group\n",
    "Data['group'].hist()"
   ]
  },
  {
   "cell_type": "markdown",
   "id": "91858332",
   "metadata": {},
   "source": [
    "Data is balanced"
   ]
  },
  {
   "cell_type": "code",
   "execution_count": 44,
   "id": "d85baa6d",
   "metadata": {},
   "outputs": [],
   "source": [
    "#Separate data of different groups\n",
    "GroupData = Data.groupby(['group'])['converted']"
   ]
  },
  {
   "cell_type": "code",
   "execution_count": 45,
   "id": "4ee5b38a",
   "metadata": {},
   "outputs": [
    {
     "data": {
      "text/plain": [
       "group\n",
       "control      145232\n",
       "treatment    145352\n",
       "Name: converted, dtype: int64"
      ]
     },
     "execution_count": 45,
     "metadata": {},
     "output_type": "execute_result"
    }
   ],
   "source": [
    "GroupData.count()"
   ]
  },
  {
   "cell_type": "code",
   "execution_count": 46,
   "id": "00eaecaf",
   "metadata": {},
   "outputs": [
    {
     "data": {
      "text/plain": [
       "group\n",
       "control      17471\n",
       "treatment    17274\n",
       "Name: converted, dtype: int64"
      ]
     },
     "execution_count": 46,
     "metadata": {},
     "output_type": "execute_result"
    }
   ],
   "source": [
    "GroupData.sum()"
   ]
  },
  {
   "cell_type": "code",
   "execution_count": 47,
   "id": "76987741",
   "metadata": {},
   "outputs": [],
   "source": [
    "#Get total number of rows in each group\n",
    "N_control, N_treatment = GroupData.count()"
   ]
  },
  {
   "cell_type": "code",
   "execution_count": 48,
   "id": "4e8abf2c",
   "metadata": {},
   "outputs": [],
   "source": [
    "#Get number of success in each group\n",
    "S_control, S_treatment = GroupData.sum()"
   ]
  },
  {
   "cell_type": "code",
   "execution_count": 49,
   "id": "e670991e",
   "metadata": {},
   "outputs": [
    {
     "data": {
      "text/plain": [
       "0.12029717968491792"
      ]
     },
     "execution_count": 49,
     "metadata": {},
     "output_type": "execute_result"
    }
   ],
   "source": [
    "#Success ratio in control group\n",
    "S_control/N_control"
   ]
  },
  {
   "cell_type": "code",
   "execution_count": 50,
   "id": "dd1bc9ee",
   "metadata": {},
   "outputs": [
    {
     "data": {
      "text/plain": [
       "0.11884253398646046"
      ]
     },
     "execution_count": 50,
     "metadata": {},
     "output_type": "execute_result"
    }
   ],
   "source": [
    "#Success ratio in treatment group\n",
    "S_treatment/N_treatment"
   ]
  },
  {
   "cell_type": "markdown",
   "id": "e2226d47",
   "metadata": {},
   "source": [
    "**Fazer histograma para cada grupo**"
   ]
  },
  {
   "cell_type": "markdown",
   "id": "0f6fe39e",
   "metadata": {},
   "source": [
    "## Power analysis"
   ]
  },
  {
   "cell_type": "code",
   "execution_count": 51,
   "id": "2a63b1af",
   "metadata": {},
   "outputs": [],
   "source": [
    "from statsmodels.stats.api import NormalIndPower, proportion_effectsize"
   ]
  },
  {
   "cell_type": "code",
   "execution_count": 52,
   "id": "d761a14c",
   "metadata": {},
   "outputs": [],
   "source": [
    "ABPower = NormalIndPower()"
   ]
  },
  {
   "cell_type": "code",
   "execution_count": 53,
   "id": "fba99077",
   "metadata": {},
   "outputs": [
    {
     "data": {
      "image/png": "[encoded data removed]",
      "text/plain": [
       "<Figure size 432x288 with 1 Axes>"
      ]
     },
     "execution_count": 53,
     "metadata": {},
     "output_type": "execute_result"
    },
    {
     "data": {
      "image/png": "[encoded data removed]",
      "text/plain": [
       "<Figure size 432x288 with 1 Axes>"
      ]
     },
     "metadata": {
      "needs_background": "light"
     },
     "output_type": "display_data"
    }
   ],
   "source": [
    "#Plot power as a function of effect size\n",
    "ABPower.plot_power(dep_var = 'effect_size', effect_size = np.linspace(-0.1,0.1,20), nobs = [147239, 294478])"
   ]
  },
  {
   "cell_type": "code",
   "execution_count": 54,
   "id": "1483ce41",
   "metadata": {},
   "outputs": [
    {
     "data": {
      "text/plain": [
       "-0.21981200622226926"
      ]
     },
     "execution_count": 54,
     "metadata": {},
     "output_type": "execute_result"
    }
   ],
   "source": [
    "effect_size = proportion_effectsize(0.12, 0.2)\n",
    "effect_size"
   ]
  },
  {
   "cell_type": "code",
   "execution_count": 55,
   "id": "692c216d",
   "metadata": {},
   "outputs": [
    {
     "data": {
      "text/plain": [
       "1.0"
      ]
     },
     "execution_count": 55,
     "metadata": {},
     "output_type": "execute_result"
    }
   ],
   "source": [
    "#Calculate power for the effect size above\n",
    "ratio = N_treatment/N_control\n",
    "power = ABPower.power(effect_size, N_control, 0.05, ratio)\n",
    "power"
   ]
  },
  {
   "cell_type": "code",
   "execution_count": 58,
   "id": "7c012412",
   "metadata": {},
   "outputs": [
    {
     "data": {
      "text/plain": [
       "5000"
      ]
     },
     "execution_count": 58,
     "metadata": {},
     "output_type": "execute_result"
    }
   ],
   "source": [
    "#Calculate required sample size\n",
    "N_sample = int(ABPower.solve_power(effect_size = effect_size, alpha = 0.05, power = power))\n",
    "N_sample"
   ]
  },
  {
   "cell_type": "code",
   "execution_count": 59,
   "id": "47ad577b",
   "metadata": {},
   "outputs": [],
   "source": [
    "#Sample 5000 for each group\n",
    "Sample_Control = Data[Data['group'] == 'control'].sample(n = N_sample, random_state = 0)\n",
    "Sample_Treatment = Data[Data['group'] == 'treatment'].sample(n = N_sample, random_state = 0)"
   ]
  },
  {
   "cell_type": "markdown",
   "id": "4090729c",
   "metadata": {},
   "source": [
    "**Verify conversion rates in each group sample**"
   ]
  },
  {
   "cell_type": "code",
   "execution_count": 62,
   "id": "a3143481",
   "metadata": {},
   "outputs": [
    {
     "data": {
      "text/plain": [
       "0.1154"
      ]
     },
     "execution_count": 62,
     "metadata": {},
     "output_type": "execute_result"
    }
   ],
   "source": [
    "#Conversion rate in control sample\n",
    "Sample_Control['converted'].sum()/Sample_Control['converted'].count()"
   ]
  },
  {
   "cell_type": "code",
   "execution_count": 64,
   "id": "69b4b772",
   "metadata": {},
   "outputs": [
    {
     "data": {
      "text/plain": [
       "0.1272"
      ]
     },
     "execution_count": 64,
     "metadata": {},
     "output_type": "execute_result"
    }
   ],
   "source": [
    "#Conversion rate in treatment sample\n",
    "Sample_Treatment['converted'].sum()/Sample_Treatment['converted'].count()"
   ]
  },
  {
   "cell_type": "markdown",
   "id": "5b6edc9e",
   "metadata": {},
   "source": [
    "## Hypothesis test"
   ]
  },
  {
   "cell_type": "code",
   "execution_count": 68,
   "id": "6222ba6f",
   "metadata": {},
   "outputs": [],
   "source": [
    "#z-test\n",
    "from statsmodels.stats.proportion import proportions_ztest\n",
    "\n",
    "z_stat, p_value = proportions_ztest([Sample_Control['converted'].sum(), Sample_Treatment['converted'].sum()], nobs = [Sample_Control['converted'].count(), Sample_Treatment['converted'].count()])"
   ]
  },
  {
   "cell_type": "code",
   "execution_count": 69,
   "id": "99113a41",
   "metadata": {},
   "outputs": [
    {
     "name": "stdout",
     "output_type": "stream",
     "text": [
      "Z statistics:  -1.8071795272547533\n",
      "p-value:  0.07073429195291984\n"
     ]
    }
   ],
   "source": [
    "print(\"Z statistics: \", z_stat)\n",
    "print('p-value: ', p_value)"
   ]
  },
  {
   "cell_type": "code",
   "execution_count": null,
   "id": "135ebe33",
   "metadata": {},
   "outputs": [],
   "source": []
  }
 ],
 "metadata": {
  "kernelspec": {
   "display_name": "Python 3",
   "language": "python",
   "name": "python3"
  },
  "language_info": {
   "codemirror_mode": {
    "name": "ipython",
    "version": 3
   },
   "file_extension": ".py",
   "mimetype": "text/x-python",
   "name": "python",
   "nbconvert_exporter": "python",
   "pygments_lexer": "ipython3",
   "version": "3.8.8"
  }
 },
 "nbformat": 4,
 "nbformat_minor": 5
}
