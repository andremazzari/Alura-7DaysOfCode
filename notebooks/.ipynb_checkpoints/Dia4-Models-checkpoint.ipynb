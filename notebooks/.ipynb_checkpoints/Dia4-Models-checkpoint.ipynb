{
 "cells": [
  {
   "cell_type": "markdown",
   "id": "b465c22d",
   "metadata": {},
   "source": [
    "# Recommentation models"
   ]
  },
  {
   "cell_type": "code",
   "execution_count": 1,
   "id": "bb3eec63",
   "metadata": {},
   "outputs": [],
   "source": [
    "import pandas as pd\n",
    "import numpy as np"
   ]
  },
  {
   "cell_type": "markdown",
   "id": "5220cd39",
   "metadata": {},
   "source": [
    "## Surprise library"
   ]
  },
  {
   "cell_type": "code",
   "execution_count": 2,
   "id": "fabe80c4",
   "metadata": {},
   "outputs": [],
   "source": [
    "from surprise import Reader, Dataset, KNNBasic, KNNWithMeans, KNNWithZScore, KNNBaseline, accuracy\n",
    "from surprise.model_selection import PredefinedKFold"
   ]
  },
  {
   "cell_type": "code",
   "execution_count": 57,
   "id": "6c0dc9a1",
   "metadata": {},
   "outputs": [
    {
     "name": "stdout",
     "output_type": "stream",
     "text": [
      "KNNBasic:  0.9799920554793488\n",
      "KNNWithMeans:  0.9358400618621564\n",
      "KNNWithZScore:  0.9379091906065818\n",
      "KNNBaseline:  0.932266426084659\n"
     ]
    }
   ],
   "source": [
    "reader = Reader(line_format = 'user item rating timestamp')\n",
    "N_neighbors = 50\n",
    "configuration = {'name':'MSD', 'user_based':False, 'min_suport':5}\n",
    "\n",
    "files = [('../data/MovieLens_Data/ml-100k/u' + str(index) + '-base.base', '../data/MovieLens_Data/ml-100k/u' + str(index) + '-test.test') for index in range(1,6)]\n",
    "Data = Dataset.load_from_folds(files, reader)\n",
    "PKF = PredefinedKFold()\n",
    "\n",
    "rmseBasic = []\n",
    "rmseMeans = []\n",
    "rmseZScore = []\n",
    "rmseBaseline = []\n",
    "for TrainData, TestData in PKF.split(Data):\n",
    "    #KNNBaisc\n",
    "    oKNNBasic = KNNBasic(k = N_neighbors, sim_options = configuration, verbose = False)\n",
    "    oKNNBasic.fit(TrainData)\n",
    "    PredictionsKNNBasic = oKNNBasic.test(TestData)\n",
    "    rmseBasic.append(accuracy.rmse(PredictionsKNNBasic, verbose=False))\n",
    "    \n",
    "    #KNNWithMeans\n",
    "    oKNNMeans = KNNWithMeans(k = N_neighbors, sim_options = configuration, verbose = False)\n",
    "    oKNNMeans.fit(TrainData)\n",
    "    PredictionsKNNMeans = oKNNMeans.test(TestData)\n",
    "    rmseMeans.append(accuracy.rmse(PredictionsKNNMeans, verbose=False))\n",
    "    \n",
    "    #KNNWithZscore\n",
    "    oKNNZScore = KNNWithZScore(k = N_neighbors, sim_options = configuration, verbose = False)\n",
    "    oKNNZScore.fit(TrainData)\n",
    "    PredictionsKNNZScore = oKNNZScore.test(TestData)\n",
    "    rmseZScore.append(accuracy.rmse(PredictionsKNNZScore, verbose=False))\n",
    "    \n",
    "    \n",
    "    #KNNBaseline\n",
    "    oKNNBaseline = KNNBaseline(k = N_neighbors, sim_options = configuration, verbose = False)\n",
    "    oKNNBaseline.fit(TrainData)\n",
    "    PredictionsKNNBaseline = oKNNBaseline.test(TestData)\n",
    "    rmseBaseline.append(accuracy.rmse(PredictionsKNNBaseline, verbose=False))\n",
    "    \n",
    "    \n",
    "print('KNNBasic: ', np.array(rmseBasic).mean())\n",
    "print('KNNWithMeans: ', np.array(rmseMeans).mean())\n",
    "print('KNNWithZScore: ', np.array(rmseZScore).mean())\n",
    "print('KNNBaseline: ', np.array(rmseBaseline).mean())"
   ]
  },
  {
   "cell_type": "markdown",
   "id": "b459c2c3",
   "metadata": {},
   "source": [
    "**Train model with best parameters with all data**"
   ]
  },
  {
   "cell_type": "code",
   "execution_count": 38,
   "id": "8b27354e",
   "metadata": {},
   "outputs": [],
   "source": [
    "from surprise.dump import dump\n",
    "\n",
    "reader = Reader(line_format = 'user item rating timestamp')\n",
    "best_configuration = {'name':'MSD', 'user_based':False, 'min_suport':5}\n",
    "Model = KNNBaseline(k = 50, sim_options = best_configuration, verbose = False)\n",
    "TrainData = Dataset.load_from_file('../data/MovieLens_Data/ml-100k/u-data.data', reader).build_full_trainset()\n",
    "Model.fit(TrainData)\n",
    "dump('RecommendationModel.pkl', algo = Model)"
   ]
  },
  {
   "cell_type": "markdown",
   "id": "5b9f83cd",
   "metadata": {},
   "source": [
    "**Load model to test**"
   ]
  },
  {
   "cell_type": "code",
   "execution_count": 39,
   "id": "6bcbf095",
   "metadata": {},
   "outputs": [],
   "source": [
    "from surprise.dump import load\n",
    "Model = load('RecommendationModel.pkl')[1]"
   ]
  },
  {
   "cell_type": "code",
   "execution_count": 40,
   "id": "284a4c99",
   "metadata": {},
   "outputs": [],
   "source": [
    "N_predictions = 5\n",
    "N_Users = 943\n",
    "N_Items = 1682\n",
    "#Get random user and item ids to send to predict\n",
    "user_ids = np.random.randint(1, N_Users + 1, N_predictions).astype(str)\n",
    "item_ids = np.random.randint(1, N_Items + 1, N_predictions).astype(str)"
   ]
  },
  {
   "cell_type": "code",
   "execution_count": 42,
   "id": "1f9cf7cd",
   "metadata": {},
   "outputs": [
    {
     "name": "stdout",
     "output_type": "stream",
     "text": [
      "user: 812        item: 1279       r_ui = None   est = 3.61   {'actual_k': 20, 'was_impossible': False}\n",
      "user: 603        item: 1578       r_ui = None   est = 3.39   {'actual_k': 43, 'was_impossible': False}\n",
      "user: 204        item: 83         r_ui = None   est = 3.92   {'actual_k': 42, 'was_impossible': False}\n",
      "user: 784        item: 1137       r_ui = None   est = 4.23   {'actual_k': 39, 'was_impossible': False}\n",
      "user: 802        item: 938        r_ui = None   est = 3.30   {'actual_k': 50, 'was_impossible': False}\n"
     ]
    }
   ],
   "source": [
    "#Get predictions\n",
    "for i in range(N_predictions):\n",
    "    prediction = Model.predict(user_ids[i], item_ids[i])\n",
    "    print(prediction)"
   ]
  },
  {
   "cell_type": "code",
   "execution_count": 31,
   "id": "66817c55",
   "metadata": {},
   "outputs": [
    {
     "name": "stdout",
     "output_type": "stream",
     "text": [
      "<surprise.prediction_algorithms.knns.KNNWithZScore object at 0x0000026218F1B3A0>\n"
     ]
    }
   ],
   "source": [
    "print(Model)"
   ]
  },
  {
   "cell_type": "code",
   "execution_count": null,
   "id": "e7de9147",
   "metadata": {},
   "outputs": [],
   "source": []
  }
 ],
 "metadata": {
  "kernelspec": {
   "display_name": "Python 3",
   "language": "python",
   "name": "python3"
  },
  "language_info": {
   "codemirror_mode": {
    "name": "ipython",
    "version": 3
   },
   "file_extension": ".py",
   "mimetype": "text/x-python",
   "name": "python",
   "nbconvert_exporter": "python",
   "pygments_lexer": "ipython3",
   "version": "3.8.8"
  }
 },
 "nbformat": 4,
 "nbformat_minor": 5
}
