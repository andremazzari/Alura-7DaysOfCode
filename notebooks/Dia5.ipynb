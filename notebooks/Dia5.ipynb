{
 "cells": [
  {
   "cell_type": "code",
   "execution_count": 1,
   "id": "7ce72848",
   "metadata": {},
   "outputs": [],
   "source": [
    "import requests"
   ]
  },
  {
   "cell_type": "code",
   "execution_count": 6,
   "id": "739943f1",
   "metadata": {},
   "outputs": [
    {
     "name": "stdout",
     "output_type": "stream",
     "text": [
      "Welcome to my first REST API\n"
     ]
    }
   ],
   "source": [
    "#Test the API\n",
    "url = 'http://127.0.0.1:5000/'\n",
    "r = requests.get(url = url)\n",
    "print(r.text)"
   ]
  },
  {
   "cell_type": "code",
   "execution_count": 29,
   "id": "e93061d9",
   "metadata": {},
   "outputs": [
    {
     "name": "stdout",
     "output_type": "stream",
     "text": [
      "['50', '50', None, 4.232535074385296, {'actual_k': 24, 'was_impossible': False}]\n"
     ]
    }
   ],
   "source": [
    "#Get prediction\n",
    "url = 'http://127.0.0.1:5000/predict'\n",
    "header = {\"Content-Type\":\"application/json\"}\n",
    "content = {\"user_id\": 50, \"item_id\": 50}\n",
    "r = requests.post(url = url, headers = header, json = content)\n",
    "print(r.json())"
   ]
  },
  {
   "cell_type": "code",
   "execution_count": null,
   "id": "a6462113",
   "metadata": {},
   "outputs": [],
   "source": []
  }
 ],
 "metadata": {
  "kernelspec": {
   "display_name": "Python 3",
   "language": "python",
   "name": "python3"
  },
  "language_info": {
   "codemirror_mode": {
    "name": "ipython",
    "version": 3
   },
   "file_extension": ".py",
   "mimetype": "text/x-python",
   "name": "python",
   "nbconvert_exporter": "python",
   "pygments_lexer": "ipython3",
   "version": "3.8.8"
  }
 },
 "nbformat": 4,
 "nbformat_minor": 5
}
